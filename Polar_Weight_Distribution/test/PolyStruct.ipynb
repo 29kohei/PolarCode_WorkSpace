{
 "cells": [
  {
   "cell_type": "markdown",
   "metadata": {},
   "source": [
    "# 2024/12/03\n",
    "- Poly構造体の足し算と掛け算を実装\n"
   ]
  },
  {
   "cell_type": "code",
   "execution_count": 15,
   "metadata": {},
   "outputs": [
    {
     "name": "stdout",
     "output_type": "stream",
     "text": [
      "  0.000010 seconds (2 allocations: 1.094 KiB)\n",
      "Poly(127, [29, 13, 71, 22, 6, 15, 19, 2, 84, 26, 65, 78, 83, 30, 93, 49, 69, 41, 62, 49, 1, 7, 98, 59, 30, 1, 1, 29, 91, 81, 61, 53, 99, 97, 96, 81, 68, 58, 55, 80, 84, 59, 45, 66, 43, 87, 38, 68, 92, 94, 91, 5, 16, 49, 89, 66, 5, 23, 27, 28, 79, 55, 95, 89, 91, 40, 61, 64, 55, 50, 27, 41, 54, 55, 18, 34, 20, 10, 84, 88, 80, 18, 52, 2, 81, 63, 28, 79, 15, 5, 88, 48, 21, 27, 70, 8, 69, 66, 6, 2, 91, 26, 45, 3, 75, 50, 75, 31, 52, 39, 36, 64, 49, 41, 43, 55, 51, 25, 72, 79, 71, 63, 37, 81, 8, 68, 21, 17])\n"
     ]
    }
   ],
   "source": [
    "struct Poly\n",
    "    deg::Int\n",
    "    coefficient::Vector{Int}\n",
    "    Poly(coefficient) = begin\n",
    "        #次数は係数ベクトルの長さ-1 例 係数ベクトルが[1,1]のとき、それに対応する多項式は1+X^1となる\n",
    "        deg = length(coefficient) - 1\n",
    "        new(deg,coefficient)\n",
    "    end\n",
    "end\n",
    "\n",
    "\n",
    "#=\n",
    "2つのPoly構造体を足す関数\n",
    "=#\n",
    "add(x::Poly,y::Poly) = begin\n",
    "    xdeg = x.deg; ydeg = y.deg\n",
    "    deg = max(xdeg,ydeg)\n",
    "    coefficient = zeros(Int,deg+1)\n",
    "    #Polyに依存する\n",
    "    xco = x.coefficient; yco = y.coefficient\n",
    "    #coefficientベクトルの初期化\n",
    "    #足す\n",
    "    mindeg = min(xdeg,ydeg)\n",
    "\n",
    "    if xdeg > ydeg\n",
    "        coefficient .= xco\n",
    "        @views coefficient[1:mindeg+1] .= coefficient[1:mindeg+1] .+ yco\n",
    "    else\n",
    "        coefficient .= yco\n",
    "        @views coefficient[1:mindeg+1] .= coefficient[1:mindeg+1] .+ xco\n",
    "    end\n",
    "\n",
    "    Poly(coefficient)\n",
    "end\n",
    "\n",
    "#Poly構造体を作成、X^99+x^98+X^97+...+1に対応するPoly構造体\n",
    "x = Poly(fill(1,100))\n",
    "y = Poly(rand(0:100,128))\n",
    "@time z = add(x,y)\n",
    "println(z)\n",
    "\n",
    "#=\n",
    "cell output\n",
    "\n",
    "0.000022 seconds (3 allocations: 1.125 KiB)\n",
    "Poly(127, [20, 48, 42, 91, 86, 91, 23, 68, 22, 77, 85, 11, 27, 80, 13, 80, 93, 66, 3, 44, 69, 71, 45, 15, 5, 1, 47, 37, 52, 76, 83, 50, 67, 14, 42, 57, 18, 5, 62, 57, 98, 40, 57, 4, 82, 8, 48, 65, 82, 9, 77, 83, 50, 51, 37, 94, 79, 63, 18, 39, 80, 83, 44, 88, 80, 55, 5, 25, 63, 77, 4, 78, 23, 19, 94, 46, 91, 96, 28, 70, 78, 44, 82, 35, 83, 39, 64, 9, 76, 97, 49, 30, 5, 70, 46, 93, 88, 84, 96, 20, 23, 13, 87, 52, 73, 11, 91, 27, 97, 91, 13, 48, 28, 80, 24, 77, 80, 95, 79, 43, 18, 6, 32, 31, 0, 58, 66, 90])\n",
    "=#"
   ]
  },
  {
   "cell_type": "code",
   "execution_count": 9,
   "metadata": {},
   "outputs": [
    {
     "name": "stdout",
     "output_type": "stream",
     "text": [
      "Poly(0, [1])\n",
      "Poly(1, [0, 1])\n"
     ]
    }
   ],
   "source": [
    "#=\n",
    "係数のベクトルを引数に渡すだけでPoly構造体を作成できる\n",
    "係数ベクトルをAとする\n",
    "A[i]が参照できるとき、つまりベクトルAの長さがiよりも大きいとき,\n",
    "A[i]はX^(i-1)の係数を表す\n",
    "A[1] + A[2]X^1+...+A[i]^X^(i-1+...+A[N]*X(N-1)\n",
    "=#\n",
    "#多項式：1のPoly構造体\n",
    "Poly([1]) |> println\n",
    "#多項式：XのPoly構造体\n",
    "Poly([0,1]) |> println\n",
    "\n",
    "\n",
    "#=\n",
    "cell outputs\n",
    "\n",
    "Poly(0, [1])\n",
    "Poly(1, [0, 1])\n",
    "=#"
   ]
  },
  {
   "cell_type": "code",
   "execution_count": 55,
   "metadata": {},
   "outputs": [
    {
     "name": "stdout",
     "output_type": "stream",
     "text": [
      "  0.000005 seconds (1 allocation: 80 bytes)\n"
     ]
    },
    {
     "data": {
      "text/plain": [
       "Poly(2, [1, 3, 2])"
      ]
     },
     "metadata": {},
     "output_type": "display_data"
    }
   ],
   "source": [
    "#掛け算\n",
    "#=\n",
    "[1,0] と [0,1,2,1]の掛け算は？\n",
    "多項式表現\n",
    "[1,0]\n",
    " 1 + X\n",
    "[0,1,2,1]\n",
    " 0 + X + 2X^2 + X^3\n",
    "\n",
    "=#\n",
    "\n",
    "mul(x::Poly,y::Poly) = begin\n",
    "    #xとyの次数\n",
    "    xdeg = x.deg; ydeg = y.deg\n",
    "    #掛けたあとの多項式の次数はどうなるか？\n",
    "    deg = xdeg + ydeg\n",
    "    poly = zeros(Int,deg+1)\n",
    "    \n",
    "    xco = x.coefficient; yco = y.coefficient\n",
    "    \n",
    "    #=\n",
    "    co[i]はX^(i-1)の係数\n",
    "    X^(i-1) * X^(j-1) = X^(i+j-2)\n",
    "    =#\n",
    "    for i in eachindex(xco)\n",
    "        for j in eachindex(yco)\n",
    "            poly[i+j-1] += xco[i] *yco[j]\n",
    "        end\n",
    "    end\n",
    "\n",
    "    Poly(poly)\n",
    "end\n",
    "\n",
    "#1+X\n",
    "x = Poly([1,1])\n",
    "#1+2X\n",
    "y = Poly([1,2])\n",
    "@time mul(x,y)"
   ]
  },
  {
   "cell_type": "code",
   "execution_count": null,
   "metadata": {},
   "outputs": [],
   "source": []
  }
 ],
 "metadata": {
  "kernelspec": {
   "display_name": "Julia 1.10.4",
   "language": "julia",
   "name": "julia-1.10"
  },
  "language_info": {
   "file_extension": ".jl",
   "mimetype": "application/julia",
   "name": "julia",
   "version": "1.10.4"
  }
 },
 "nbformat": 4,
 "nbformat_minor": 2
}
