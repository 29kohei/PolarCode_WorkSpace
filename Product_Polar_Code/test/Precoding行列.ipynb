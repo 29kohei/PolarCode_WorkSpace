{
 "cells": [
  {
   "cell_type": "markdown",
   "metadata": {},
   "source": [
    "# Polar符号の最小距離を計算"
   ]
  },
  {
   "cell_type": "code",
   "execution_count": 4,
   "metadata": {},
   "outputs": [
    {
     "data": {
      "text/plain": [
       "4"
      ]
     },
     "metadata": {},
     "output_type": "display_data"
    }
   ],
   "source": [
    "inttobin(i,n) = [(i>>j)%2 for j=0:n-1]\n",
    "hammingweight(i,n) = sum(inttobin(i,n))\n",
    "inttobin(31,5)\n",
    "#Aは0スタート\n",
    "polar_minimumdistance(A,n) = minimum([2^hammingweight(i,n) for i in A])\n",
    "N = 32; K = 21\n",
    "a = 0; n = 5\n",
    "for i=1:100000\n",
    "    A = rand(0:31,K)\n",
    "    a = max(polar_minimumdistance(A,n),a)\n",
    "end\n",
    "a"
   ]
  },
  {
   "cell_type": "markdown",
   "metadata": {},
   "source": [
    "# 生成行列の最小距離"
   ]
  },
  {
   "cell_type": "code",
   "execution_count": null,
   "metadata": {},
   "outputs": [],
   "source": [
    "MinDistance()"
   ]
  },
  {
   "cell_type": "markdown",
   "metadata": {},
   "source": [
    "# SC復号の誤り率を計算"
   ]
  },
  {
   "cell_type": "code",
   "execution_count": 179,
   "metadata": {},
   "outputs": [
    {
     "data": {
      "text/plain": [
       "4.9999000009681716e-5"
      ]
     },
     "metadata": {},
     "output_type": "display_data"
    }
   ],
   "source": [
    "SCerror(F,p) = 1-prod(1 .-p[F])\n",
    "F = [1:5;]; p = [1e-5 for i=1:9]\n",
    "SCerror(F,p)"
   ]
  },
  {
   "cell_type": "code",
   "execution_count": null,
   "metadata": {},
   "outputs": [
    {
     "data": {
      "text/plain": [
       "6.0"
      ]
     },
     "metadata": {},
     "output_type": "display_data"
    }
   ],
   "source": [
    "inttobin(i,n) = [(i>>j)%2 for j=0:n-1]\n",
    "inttobin(3,4)\n",
    "bintoint"
   ]
  },
  {
   "cell_type": "code",
   "execution_count": null,
   "metadata": {},
   "outputs": [],
   "source": [
    "#"
   ]
  }
 ],
 "metadata": {
  "kernelspec": {
   "display_name": "Julia 1.10.4",
   "language": "julia",
   "name": "julia-1.10"
  },
  "language_info": {
   "file_extension": ".jl",
   "mimetype": "application/julia",
   "name": "julia",
   "version": "1.10.4"
  }
 },
 "nbformat": 4,
 "nbformat_minor": 2
}
